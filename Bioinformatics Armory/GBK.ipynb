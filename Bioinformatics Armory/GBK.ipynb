{
 "cells": [
  {
   "cell_type": "code",
   "execution_count": 33,
   "metadata": {},
   "outputs": [],
   "source": [
    "from Bio import Entrez\n",
    "from datetime import datetime\n",
    "\n",
    "Entrez.email = \"lsw1167@gmail.com\"\n",
    "path = \"./rosalind_gbk.txt\""
   ]
  },
  {
   "cell_type": "code",
   "execution_count": 34,
   "metadata": {},
   "outputs": [
    {
     "name": "stdout",
     "output_type": "stream",
     "text": [
      "32\n"
     ]
    }
   ],
   "source": [
    "with open(path, 'r') as f:\n",
    "    queryTerm = f.readline().strip()\n",
    "    dateStart = f.readline().strip()\n",
    "    dateEnd = f.readline().strip()\n",
    "    \n",
    "    # Rule 1. 각 query term은 검색 연산자로 연결될 수 있음\n",
    "    # Rule 2. query term이 검색 연산자로 연결될 경우 괄호로 묶어야 함\n",
    "    # Rule 3. 각 query term은 늘 검색 필드를 포함해야 함\n",
    "    dateStart = datetime.strptime(dateStart, \"%Y/%m/%d\").strftime(\"%Y/%m/%d\")\n",
    "    dateEnd = datetime.strptime(dateEnd, \"%Y/%m/%d\").strftime(\"%Y/%m/%d\")\n",
    "\n",
    "    query = f\"{queryTerm}[Organism] AND (\\\"{dateStart}\\\"[Publication Date] : \\\"{dateEnd}\\\"[Publication Date])\"\n",
    "    \n",
    "    with Entrez.esearch(db=\"nucleotide\", term=query, retmax=100000) as handle:\n",
    "        record = Entrez.read(handle)\n",
    "        print(record['Count'])"
   ]
  },
  {
   "cell_type": "code",
   "execution_count": null,
   "metadata": {},
   "outputs": [],
   "source": []
  }
 ],
 "metadata": {
  "kernelspec": {
   "display_name": "pydev",
   "language": "python",
   "name": "python3"
  },
  "language_info": {
   "codemirror_mode": {
    "name": "ipython",
    "version": 3
   },
   "file_extension": ".py",
   "mimetype": "text/x-python",
   "name": "python",
   "nbconvert_exporter": "python",
   "pygments_lexer": "ipython3",
   "version": "3.10.10"
  }
 },
 "nbformat": 4,
 "nbformat_minor": 2
}
